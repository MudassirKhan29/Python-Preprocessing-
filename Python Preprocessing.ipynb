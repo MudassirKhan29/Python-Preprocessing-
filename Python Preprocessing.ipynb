{
 "cells": [
  {
   "cell_type": "markdown",
   "metadata": {},
   "source": [
    "## Open Source Data Repositories\n",
    "1. [UCI Machine Learning Repository](http://archive.ics.uci.edu/ml/index.php) - Small, manageable and standard datasets from almost all domains\n",
    "\n",
    "2. [USA data.gov Initiative](https://www.data.gov/) - US government open-sourced data. Lots of untapped potential.\n",
    "\n",
    "3. [World Bank Data](https://data.worldbank.org/) - Econometric, administrative and credit data for almost all countries. Low granularity(less data points), high latency (slow updates).\n",
    "\n",
    "4. [Quandl](https://www.quandl.com/) - Fianancial and Econometric data. High granularity, low latency(nightly updates).\n",
    "\n",
    "5. [Kaggle Datasets](https://www.kaggle.com/datasets) - Pretty much everything. Good forum conversations.  "
   ]
  },
  {
   "cell_type": "markdown",
   "metadata": {},
   "source": [
    "## PIMA Indian Diabetes Data - UCI\n",
    "You can access the Diabetes Data and its relevant documentation [here on UCI website](https://archive.ics.uci.edu/ml/datasets/Pima+Indians+Diabetes)"
   ]
  },
  {
   "cell_type": "code",
   "execution_count": 1,
   "metadata": {},
   "outputs": [
    {
     "data": {
      "text/html": [
       "<div>\n",
       "<style scoped>\n",
       "    .dataframe tbody tr th:only-of-type {\n",
       "        vertical-align: middle;\n",
       "    }\n",
       "\n",
       "    .dataframe tbody tr th {\n",
       "        vertical-align: top;\n",
       "    }\n",
       "\n",
       "    .dataframe thead th {\n",
       "        text-align: right;\n",
       "    }\n",
       "</style>\n",
       "<table border=\"1\" class=\"dataframe\">\n",
       "  <thead>\n",
       "    <tr style=\"text-align: right;\">\n",
       "      <th></th>\n",
       "      <th>Pregnancies</th>\n",
       "      <th>Glucose</th>\n",
       "      <th>Blood_Pressure</th>\n",
       "      <th>SkinThickness</th>\n",
       "      <th>Insulin</th>\n",
       "      <th>BMI</th>\n",
       "      <th>DiabetesPedigreeFunction</th>\n",
       "      <th>Age</th>\n",
       "      <th>Outcome</th>\n",
       "    </tr>\n",
       "  </thead>\n",
       "  <tbody>\n",
       "    <tr>\n",
       "      <th>0</th>\n",
       "      <td>6</td>\n",
       "      <td>148</td>\n",
       "      <td>72</td>\n",
       "      <td>35</td>\n",
       "      <td>0</td>\n",
       "      <td>33.6</td>\n",
       "      <td>0.627</td>\n",
       "      <td>50</td>\n",
       "      <td>1</td>\n",
       "    </tr>\n",
       "    <tr>\n",
       "      <th>1</th>\n",
       "      <td>1</td>\n",
       "      <td>85</td>\n",
       "      <td>66</td>\n",
       "      <td>29</td>\n",
       "      <td>0</td>\n",
       "      <td>26.6</td>\n",
       "      <td>0.351</td>\n",
       "      <td>31</td>\n",
       "      <td>0</td>\n",
       "    </tr>\n",
       "    <tr>\n",
       "      <th>2</th>\n",
       "      <td>8</td>\n",
       "      <td>183</td>\n",
       "      <td>64</td>\n",
       "      <td>0</td>\n",
       "      <td>0</td>\n",
       "      <td>23.3</td>\n",
       "      <td>0.672</td>\n",
       "      <td>32</td>\n",
       "      <td>1</td>\n",
       "    </tr>\n",
       "    <tr>\n",
       "      <th>3</th>\n",
       "      <td>1</td>\n",
       "      <td>89</td>\n",
       "      <td>66</td>\n",
       "      <td>23</td>\n",
       "      <td>94</td>\n",
       "      <td>28.1</td>\n",
       "      <td>0.167</td>\n",
       "      <td>21</td>\n",
       "      <td>0</td>\n",
       "    </tr>\n",
       "    <tr>\n",
       "      <th>4</th>\n",
       "      <td>0</td>\n",
       "      <td>137</td>\n",
       "      <td>40</td>\n",
       "      <td>35</td>\n",
       "      <td>168</td>\n",
       "      <td>43.1</td>\n",
       "      <td>2.288</td>\n",
       "      <td>33</td>\n",
       "      <td>1</td>\n",
       "    </tr>\n",
       "  </tbody>\n",
       "</table>\n",
       "</div>"
      ],
      "text/plain": [
       "   Pregnancies  Glucose  Blood_Pressure  SkinThickness  Insulin   BMI  \\\n",
       "0            6      148              72             35        0  33.6   \n",
       "1            1       85              66             29        0  26.6   \n",
       "2            8      183              64              0        0  23.3   \n",
       "3            1       89              66             23       94  28.1   \n",
       "4            0      137              40             35      168  43.1   \n",
       "\n",
       "   DiabetesPedigreeFunction  Age  Outcome  \n",
       "0                     0.627   50        1  \n",
       "1                     0.351   31        0  \n",
       "2                     0.672   32        1  \n",
       "3                     0.167   21        0  \n",
       "4                     2.288   33        1  "
      ]
     },
     "execution_count": 1,
     "metadata": {},
     "output_type": "execute_result"
    }
   ],
   "source": [
    "import pandas as pd\n",
    "\n",
    "diabetes = pd.read_csv(\"E:/PGA/python/pima_indians_diabetes.csv\" , names = ['Pregnancies','Glucose','Blood_Pressure','SkinThickness','Insulin','BMI','DiabetesPedigreeFunction','Age','Outcome'])\n",
    "\n",
    "diabetes.head()"
   ]
  },
  {
   "cell_type": "markdown",
   "metadata": {
    "collapsed": true
   },
   "source": [
    "## Data Exploration"
   ]
  },
  {
   "cell_type": "markdown",
   "metadata": {},
   "source": [
    "## 1. Check if the data types are as expected"
   ]
  },
  {
   "cell_type": "code",
   "execution_count": 2,
   "metadata": {},
   "outputs": [
    {
     "data": {
      "text/plain": [
       "Pregnancies                   int64\n",
       "Glucose                       int64\n",
       "Blood_Pressure                int64\n",
       "SkinThickness                 int64\n",
       "Insulin                       int64\n",
       "BMI                         float64\n",
       "DiabetesPedigreeFunction    float64\n",
       "Age                           int64\n",
       "Outcome                       int64\n",
       "dtype: object"
      ]
     },
     "execution_count": 2,
     "metadata": {},
     "output_type": "execute_result"
    }
   ],
   "source": [
    "diabetes.dtypes"
   ]
  },
  {
   "cell_type": "code",
   "execution_count": 3,
   "metadata": {},
   "outputs": [
    {
     "data": {
      "text/plain": [
       "Pregnancies                    int64\n",
       "Glucose                        int64\n",
       "Blood_Pressure                 int64\n",
       "SkinThickness                  int64\n",
       "Insulin                        int64\n",
       "BMI                          float64\n",
       "DiabetesPedigreeFunction     float64\n",
       "Age                            int64\n",
       "Outcome                     category\n",
       "dtype: object"
      ]
     },
     "execution_count": 3,
     "metadata": {},
     "output_type": "execute_result"
    }
   ],
   "source": [
    "# changing outcome to categorical\n",
    "\n",
    "diabetes['Outcome']= diabetes['Outcome'].astype('category')\n",
    "diabetes.dtypes"
   ]
  },
  {
   "cell_type": "code",
   "execution_count": 4,
   "metadata": {},
   "outputs": [
    {
     "data": {
      "text/plain": [
       "(768, 9)"
      ]
     },
     "execution_count": 4,
     "metadata": {},
     "output_type": "execute_result"
    }
   ],
   "source": [
    "diabetes.shape"
   ]
  },
  {
   "cell_type": "code",
   "execution_count": null,
   "metadata": {},
   "outputs": [],
   "source": []
  },
  {
   "cell_type": "markdown",
   "metadata": {},
   "source": [
    "## 2. Memory optimizations"
   ]
  },
  {
   "cell_type": "code",
   "execution_count": 5,
   "metadata": {},
   "outputs": [
    {
     "data": {
      "text/plain": [
       "Index                         80\n",
       "Pregnancies                 6144\n",
       "Glucose                     6144\n",
       "Blood_Pressure              6144\n",
       "SkinThickness               6144\n",
       "Insulin                     6144\n",
       "BMI                         6144\n",
       "DiabetesPedigreeFunction    6144\n",
       "Age                         6144\n",
       "Outcome                      864\n",
       "dtype: int64"
      ]
     },
     "execution_count": 5,
     "metadata": {},
     "output_type": "execute_result"
    }
   ],
   "source": [
    "# checking memory usage\n",
    "diabetes.memory_usage()"
   ]
  },
  {
   "cell_type": "code",
   "execution_count": 6,
   "metadata": {},
   "outputs": [
    {
     "data": {
      "text/plain": [
       "Index                         80\n",
       "Pregnancies                 1536\n",
       "Glucose                     1536\n",
       "Blood_Pressure              1536\n",
       "SkinThickness               1536\n",
       "Insulin                     1536\n",
       "BMI                         1536\n",
       "DiabetesPedigreeFunction    1536\n",
       "Age                         6144\n",
       "Outcome                      864\n",
       "dtype: int64"
      ]
     },
     "execution_count": 6,
     "metadata": {},
     "output_type": "execute_result"
    }
   ],
   "source": [
    "diabetes.iloc[:,[0,1,2,3,4]] = diabetes.iloc[:,[0,1,2,3,4,7]].astype('int16')\n",
    " \n",
    "diabetes.iloc[:,[5,6]] = diabetes.iloc[:,[5,6]].astype('float16')\n",
    "\n",
    "diabetes.memory_usage()"
   ]
  },
  {
   "cell_type": "markdown",
   "metadata": {},
   "source": [
    "## 3. Check summary statistics"
   ]
  },
  {
   "cell_type": "code",
   "execution_count": 7,
   "metadata": {},
   "outputs": [
    {
     "data": {
      "text/html": [
       "<div>\n",
       "<style scoped>\n",
       "    .dataframe tbody tr th:only-of-type {\n",
       "        vertical-align: middle;\n",
       "    }\n",
       "\n",
       "    .dataframe tbody tr th {\n",
       "        vertical-align: top;\n",
       "    }\n",
       "\n",
       "    .dataframe thead th {\n",
       "        text-align: right;\n",
       "    }\n",
       "</style>\n",
       "<table border=\"1\" class=\"dataframe\">\n",
       "  <thead>\n",
       "    <tr style=\"text-align: right;\">\n",
       "      <th></th>\n",
       "      <th>Pregnancies</th>\n",
       "      <th>Glucose</th>\n",
       "      <th>Blood_Pressure</th>\n",
       "      <th>SkinThickness</th>\n",
       "      <th>Insulin</th>\n",
       "      <th>BMI</th>\n",
       "      <th>DiabetesPedigreeFunction</th>\n",
       "      <th>Age</th>\n",
       "    </tr>\n",
       "  </thead>\n",
       "  <tbody>\n",
       "    <tr>\n",
       "      <th>count</th>\n",
       "      <td>768.000000</td>\n",
       "      <td>768.000000</td>\n",
       "      <td>768.000000</td>\n",
       "      <td>768.000000</td>\n",
       "      <td>768.000000</td>\n",
       "      <td>768.000000</td>\n",
       "      <td>768.000000</td>\n",
       "      <td>768.000000</td>\n",
       "    </tr>\n",
       "    <tr>\n",
       "      <th>mean</th>\n",
       "      <td>3.845052</td>\n",
       "      <td>120.894531</td>\n",
       "      <td>69.105469</td>\n",
       "      <td>20.536458</td>\n",
       "      <td>79.799479</td>\n",
       "      <td>32.000000</td>\n",
       "      <td>0.471924</td>\n",
       "      <td>33.240885</td>\n",
       "    </tr>\n",
       "    <tr>\n",
       "      <th>std</th>\n",
       "      <td>3.369578</td>\n",
       "      <td>31.972618</td>\n",
       "      <td>19.355807</td>\n",
       "      <td>15.952218</td>\n",
       "      <td>115.244002</td>\n",
       "      <td>7.882812</td>\n",
       "      <td>0.331299</td>\n",
       "      <td>11.760232</td>\n",
       "    </tr>\n",
       "    <tr>\n",
       "      <th>min</th>\n",
       "      <td>0.000000</td>\n",
       "      <td>0.000000</td>\n",
       "      <td>0.000000</td>\n",
       "      <td>0.000000</td>\n",
       "      <td>0.000000</td>\n",
       "      <td>0.000000</td>\n",
       "      <td>0.078003</td>\n",
       "      <td>21.000000</td>\n",
       "    </tr>\n",
       "    <tr>\n",
       "      <th>25%</th>\n",
       "      <td>1.000000</td>\n",
       "      <td>99.000000</td>\n",
       "      <td>62.000000</td>\n",
       "      <td>0.000000</td>\n",
       "      <td>0.000000</td>\n",
       "      <td>27.296875</td>\n",
       "      <td>0.243774</td>\n",
       "      <td>24.000000</td>\n",
       "    </tr>\n",
       "    <tr>\n",
       "      <th>50%</th>\n",
       "      <td>3.000000</td>\n",
       "      <td>117.000000</td>\n",
       "      <td>72.000000</td>\n",
       "      <td>23.000000</td>\n",
       "      <td>30.500000</td>\n",
       "      <td>32.000000</td>\n",
       "      <td>0.372559</td>\n",
       "      <td>29.000000</td>\n",
       "    </tr>\n",
       "    <tr>\n",
       "      <th>75%</th>\n",
       "      <td>6.000000</td>\n",
       "      <td>140.250000</td>\n",
       "      <td>80.000000</td>\n",
       "      <td>32.000000</td>\n",
       "      <td>127.250000</td>\n",
       "      <td>36.593750</td>\n",
       "      <td>0.626221</td>\n",
       "      <td>41.000000</td>\n",
       "    </tr>\n",
       "    <tr>\n",
       "      <th>max</th>\n",
       "      <td>17.000000</td>\n",
       "      <td>199.000000</td>\n",
       "      <td>122.000000</td>\n",
       "      <td>99.000000</td>\n",
       "      <td>846.000000</td>\n",
       "      <td>67.125000</td>\n",
       "      <td>2.419922</td>\n",
       "      <td>81.000000</td>\n",
       "    </tr>\n",
       "  </tbody>\n",
       "</table>\n",
       "</div>"
      ],
      "text/plain": [
       "       Pregnancies     Glucose  Blood_Pressure  SkinThickness     Insulin  \\\n",
       "count   768.000000  768.000000      768.000000     768.000000  768.000000   \n",
       "mean      3.845052  120.894531       69.105469      20.536458   79.799479   \n",
       "std       3.369578   31.972618       19.355807      15.952218  115.244002   \n",
       "min       0.000000    0.000000        0.000000       0.000000    0.000000   \n",
       "25%       1.000000   99.000000       62.000000       0.000000    0.000000   \n",
       "50%       3.000000  117.000000       72.000000      23.000000   30.500000   \n",
       "75%       6.000000  140.250000       80.000000      32.000000  127.250000   \n",
       "max      17.000000  199.000000      122.000000      99.000000  846.000000   \n",
       "\n",
       "              BMI  DiabetesPedigreeFunction         Age  \n",
       "count  768.000000                768.000000  768.000000  \n",
       "mean    32.000000                  0.471924   33.240885  \n",
       "std      7.882812                  0.331299   11.760232  \n",
       "min      0.000000                  0.078003   21.000000  \n",
       "25%     27.296875                  0.243774   24.000000  \n",
       "50%     32.000000                  0.372559   29.000000  \n",
       "75%     36.593750                  0.626221   41.000000  \n",
       "max     67.125000                  2.419922   81.000000  "
      ]
     },
     "execution_count": 7,
     "metadata": {},
     "output_type": "execute_result"
    }
   ],
   "source": [
    "diabetes.describe()"
   ]
  },
  {
   "cell_type": "code",
   "execution_count": null,
   "metadata": {},
   "outputs": [],
   "source": []
  },
  {
   "cell_type": "markdown",
   "metadata": {},
   "source": [
    "## 4. Check for Outliers"
   ]
  },
  {
   "cell_type": "code",
   "execution_count": 8,
   "metadata": {},
   "outputs": [
    {
     "data": {
      "text/plain": [
       "<function matplotlib.pyplot.show(*args, **kw)>"
      ]
     },
     "execution_count": 8,
     "metadata": {},
     "output_type": "execute_result"
    }
   ],
   "source": [
    "import matplotlib.pylab as plt\n",
    "import seaborn as sns\n",
    "\n",
    "sns.boxplot(data=diabetes,orient='h',palette='Set2')\n",
    "plt.show\n"
   ]
  },
  {
   "cell_type": "code",
   "execution_count": 9,
   "metadata": {},
   "outputs": [
    {
     "data": {
      "text/plain": [
       "<function matplotlib.pyplot.show(*args, **kw)>"
      ]
     },
     "execution_count": 9,
     "metadata": {},
     "output_type": "execute_result"
    },
    {
     "data": {
      "image/png": "[encoded data removed]",
      "text/plain": [
       "<Figure size 432x288 with 1 Axes>"
      ]
     },
     "metadata": {
      "needs_background": "light"
     },
     "output_type": "display_data"
    }
   ],
   "source": [
    "sns.boxplot(data=diabetes['Insulin'],orient='h',palette='Set2')\n",
    "plt.show"
   ]
  },
  {
   "cell_type": "code",
   "execution_count": null,
   "metadata": {},
   "outputs": [],
   "source": []
  },
  {
   "cell_type": "markdown",
   "metadata": {},
   "source": [
    "## Dealing with Outliers"
   ]
  },
  {
   "cell_type": "code",
   "execution_count": 10,
   "metadata": {},
   "outputs": [
    {
     "name": "stdout",
     "output_type": "stream",
     "text": [
      "318.125\n"
     ]
    }
   ],
   "source": [
    "import numpy as np\n",
    "\n",
    "q1,q3 = np.percentile(diabetes['Insulin'],[25,75])\n",
    "iqr = q3-q1\n",
    "whisker = q3 + (1.5*iqr)\n",
    "print(whisker)"
   ]
  },
  {
   "cell_type": "code",
   "execution_count": 11,
   "metadata": {},
   "outputs": [],
   "source": [
    "diabetes['Insulin'] = diabetes['Insulin'].clip(upper=whisker)"
   ]
  },
  {
   "cell_type": "code",
   "execution_count": 12,
   "metadata": {},
   "outputs": [
    {
     "data": {
      "text/plain": [
       "<function matplotlib.pyplot.show(*args, **kw)>"
      ]
     },
     "execution_count": 12,
     "metadata": {},
     "output_type": "execute_result"
    },
    {
     "data": {
      "image/png": "[encoded data removed]",
      "text/plain": [
       "<Figure size 432x288 with 1 Axes>"
      ]
     },
     "metadata": {
      "needs_background": "light"
     },
     "output_type": "display_data"
    }
   ],
   "source": [
    "sns.boxplot(data=diabetes['Insulin'],orient='h',palette='Set2')\n",
    "plt.show"
   ]
  },
  {
   "cell_type": "markdown",
   "metadata": {},
   "source": [
    "## 5. Check missing values"
   ]
  },
  {
   "cell_type": "code",
   "execution_count": 13,
   "metadata": {},
   "outputs": [
    {
     "data": {
      "text/plain": [
       "Pregnancies                 0\n",
       "Glucose                     0\n",
       "Blood_Pressure              0\n",
       "SkinThickness               0\n",
       "Insulin                     0\n",
       "BMI                         0\n",
       "DiabetesPedigreeFunction    0\n",
       "Age                         0\n",
       "Outcome                     0\n",
       "dtype: int64"
      ]
     },
     "execution_count": 13,
     "metadata": {},
     "output_type": "execute_result"
    }
   ],
   "source": [
    "diabetes.isnull().sum()"
   ]
  },
  {
   "cell_type": "code",
   "execution_count": 14,
   "metadata": {},
   "outputs": [
    {
     "data": {
      "text/plain": [
       "Glucose             5\n",
       "Blood_Pressure     35\n",
       "SkinThickness     227\n",
       "Insulin           374\n",
       "BMI                11\n",
       "dtype: int64"
      ]
     },
     "execution_count": 14,
     "metadata": {},
     "output_type": "execute_result"
    }
   ],
   "source": [
    "(diabetes.iloc[:,[1,2,3,4,5]]== 0).sum()"
   ]
  },
  {
   "cell_type": "code",
   "execution_count": 15,
   "metadata": {},
   "outputs": [
    {
     "data": {
      "text/plain": [
       "Pregnancies                   0\n",
       "Glucose                       5\n",
       "Blood_Pressure               35\n",
       "SkinThickness               227\n",
       "Insulin                     374\n",
       "BMI                          11\n",
       "DiabetesPedigreeFunction      0\n",
       "Age                           0\n",
       "Outcome                       0\n",
       "dtype: int64"
      ]
     },
     "execution_count": 15,
     "metadata": {},
     "output_type": "execute_result"
    }
   ],
   "source": [
    "# replacing 0 with nan\n",
    "diabetes.iloc[:,[1,2,3,4,5]]= diabetes.iloc[:,[1,2,3,4,5]].replace(0,np.NaN)\n",
    "diabetes.isnull().sum()"
   ]
  },
  {
   "cell_type": "code",
   "execution_count": null,
   "metadata": {},
   "outputs": [],
   "source": []
  },
  {
   "cell_type": "markdown",
   "metadata": {},
   "source": [
    "# Dealing with Missing Values"
   ]
  },
  {
   "cell_type": "markdown",
   "metadata": {},
   "source": [
    "## A) Drop rows having NaN"
   ]
  },
  {
   "cell_type": "code",
   "execution_count": 16,
   "metadata": {},
   "outputs": [
    {
     "data": {
      "text/plain": [
       "(392, 9)"
      ]
     },
     "execution_count": 16,
     "metadata": {},
     "output_type": "execute_result"
    }
   ],
   "source": [
    "nan_dropped = diabetes.dropna()\n",
    "nan_dropped.shape"
   ]
  },
  {
   "cell_type": "code",
   "execution_count": null,
   "metadata": {},
   "outputs": [],
   "source": []
  },
  {
   "cell_type": "markdown",
   "metadata": {},
   "source": [
    "## Drop row/columns having more than certain percentage of NaNs"
   ]
  },
  {
   "cell_type": "code",
   "execution_count": 17,
   "metadata": {},
   "outputs": [
    {
     "name": "stdout",
     "output_type": "stream",
     "text": [
      "(733, 9)\n"
     ]
    }
   ],
   "source": [
    "## Dropping rows with more than 25% NA values\n",
    "dropped_diabetes = diabetes.loc[diabetes.isnull().mean(axis=1) < 0.25]\n",
    "print(dropped_diabetes.shape)\n",
    "\n",
    "## Dropping cols with more than 30% NA values\n",
    "dropped_diabetes = dropped_diabetes.loc[:,dropped_diabetes.isnull().mean(axis=0) < 0.30]"
   ]
  },
  {
   "cell_type": "markdown",
   "metadata": {},
   "source": [
    "## B) Impute missing values\n",
    "1. Some constant value that is considered \"normal\" in the domain\n",
    "2. Summary statistic like Mean, Median, Mode\n",
    "3. **A value estimated by algorithm or predictive model** - Will be taught later. Don't get ahead of yourself or you'll miss the real fun ;)"
   ]
  },
  {
   "cell_type": "code",
   "execution_count": 18,
   "metadata": {},
   "outputs": [
    {
     "data": {
      "text/plain": [
       "Pregnancies                   0\n",
       "Glucose                       5\n",
       "Blood_Pressure                2\n",
       "SkinThickness               192\n",
       "BMI                           2\n",
       "DiabetesPedigreeFunction      0\n",
       "Age                           0\n",
       "Outcome                       0\n",
       "dtype: int64"
      ]
     },
     "execution_count": 18,
     "metadata": {},
     "output_type": "execute_result"
    }
   ],
   "source": [
    "dropped_diabetes.isnull().sum()"
   ]
  },
  {
   "cell_type": "code",
   "execution_count": 19,
   "metadata": {},
   "outputs": [
    {
     "data": {
      "text/html": [
       "<div>\n",
       "<style scoped>\n",
       "    .dataframe tbody tr th:only-of-type {\n",
       "        vertical-align: middle;\n",
       "    }\n",
       "\n",
       "    .dataframe tbody tr th {\n",
       "        vertical-align: top;\n",
       "    }\n",
       "\n",
       "    .dataframe thead th {\n",
       "        text-align: right;\n",
       "    }\n",
       "</style>\n",
       "<table border=\"1\" class=\"dataframe\">\n",
       "  <thead>\n",
       "    <tr style=\"text-align: right;\">\n",
       "      <th></th>\n",
       "      <th>Pregnancies</th>\n",
       "      <th>Glucose</th>\n",
       "      <th>Blood_Pressure</th>\n",
       "      <th>SkinThickness</th>\n",
       "      <th>BMI</th>\n",
       "      <th>DiabetesPedigreeFunction</th>\n",
       "      <th>Age</th>\n",
       "    </tr>\n",
       "  </thead>\n",
       "  <tbody>\n",
       "    <tr>\n",
       "      <th>count</th>\n",
       "      <td>733.000000</td>\n",
       "      <td>728.000000</td>\n",
       "      <td>731.000000</td>\n",
       "      <td>541.000000</td>\n",
       "      <td>731.000000</td>\n",
       "      <td>733.000000</td>\n",
       "      <td>733.000000</td>\n",
       "    </tr>\n",
       "    <tr>\n",
       "      <th>mean</th>\n",
       "      <td>3.858117</td>\n",
       "      <td>121.811813</td>\n",
       "      <td>72.359781</td>\n",
       "      <td>29.153420</td>\n",
       "      <td>32.468750</td>\n",
       "      <td>0.476562</td>\n",
       "      <td>33.287858</td>\n",
       "    </tr>\n",
       "    <tr>\n",
       "      <th>std</th>\n",
       "      <td>3.372025</td>\n",
       "      <td>30.702845</td>\n",
       "      <td>12.363134</td>\n",
       "      <td>10.476982</td>\n",
       "      <td>6.882812</td>\n",
       "      <td>0.334229</td>\n",
       "      <td>11.749216</td>\n",
       "    </tr>\n",
       "    <tr>\n",
       "      <th>min</th>\n",
       "      <td>0.000000</td>\n",
       "      <td>44.000000</td>\n",
       "      <td>24.000000</td>\n",
       "      <td>7.000000</td>\n",
       "      <td>18.203125</td>\n",
       "      <td>0.078003</td>\n",
       "      <td>21.000000</td>\n",
       "    </tr>\n",
       "    <tr>\n",
       "      <th>25%</th>\n",
       "      <td>1.000000</td>\n",
       "      <td>99.750000</td>\n",
       "      <td>64.000000</td>\n",
       "      <td>22.000000</td>\n",
       "      <td>27.500000</td>\n",
       "      <td>0.244995</td>\n",
       "      <td>24.000000</td>\n",
       "    </tr>\n",
       "    <tr>\n",
       "      <th>50%</th>\n",
       "      <td>3.000000</td>\n",
       "      <td>117.000000</td>\n",
       "      <td>72.000000</td>\n",
       "      <td>29.000000</td>\n",
       "      <td>32.406250</td>\n",
       "      <td>0.379883</td>\n",
       "      <td>29.000000</td>\n",
       "    </tr>\n",
       "    <tr>\n",
       "      <th>75%</th>\n",
       "      <td>6.000000</td>\n",
       "      <td>141.250000</td>\n",
       "      <td>80.000000</td>\n",
       "      <td>36.000000</td>\n",
       "      <td>36.593750</td>\n",
       "      <td>0.628906</td>\n",
       "      <td>41.000000</td>\n",
       "    </tr>\n",
       "    <tr>\n",
       "      <th>max</th>\n",
       "      <td>17.000000</td>\n",
       "      <td>199.000000</td>\n",
       "      <td>122.000000</td>\n",
       "      <td>99.000000</td>\n",
       "      <td>67.125000</td>\n",
       "      <td>2.419922</td>\n",
       "      <td>81.000000</td>\n",
       "    </tr>\n",
       "  </tbody>\n",
       "</table>\n",
       "</div>"
      ],
      "text/plain": [
       "       Pregnancies     Glucose  Blood_Pressure  SkinThickness         BMI  \\\n",
       "count   733.000000  728.000000      731.000000     541.000000  731.000000   \n",
       "mean      3.858117  121.811813       72.359781      29.153420   32.468750   \n",
       "std       3.372025   30.702845       12.363134      10.476982    6.882812   \n",
       "min       0.000000   44.000000       24.000000       7.000000   18.203125   \n",
       "25%       1.000000   99.750000       64.000000      22.000000   27.500000   \n",
       "50%       3.000000  117.000000       72.000000      29.000000   32.406250   \n",
       "75%       6.000000  141.250000       80.000000      36.000000   36.593750   \n",
       "max      17.000000  199.000000      122.000000      99.000000   67.125000   \n",
       "\n",
       "       DiabetesPedigreeFunction         Age  \n",
       "count                733.000000  733.000000  \n",
       "mean                   0.476562   33.287858  \n",
       "std                    0.334229   11.749216  \n",
       "min                    0.078003   21.000000  \n",
       "25%                    0.244995   24.000000  \n",
       "50%                    0.379883   29.000000  \n",
       "75%                    0.628906   41.000000  \n",
       "max                    2.419922   81.000000  "
      ]
     },
     "execution_count": 19,
     "metadata": {},
     "output_type": "execute_result"
    }
   ],
   "source": [
    "dropped_diabetes.describe()"
   ]
  },
  {
   "cell_type": "code",
   "execution_count": 20,
   "metadata": {},
   "outputs": [
    {
     "data": {
      "text/plain": [
       "Pregnancies                    int16\n",
       "Glucose                      float64\n",
       "Blood_Pressure               float64\n",
       "SkinThickness                float64\n",
       "BMI                          float16\n",
       "DiabetesPedigreeFunction     float16\n",
       "Age                            int64\n",
       "Outcome                     category\n",
       "dtype: object"
      ]
     },
     "execution_count": 20,
     "metadata": {},
     "output_type": "execute_result"
    }
   ],
   "source": [
    "dropped_diabetes.dtypes"
   ]
  },
  {
   "cell_type": "code",
   "execution_count": 21,
   "metadata": {},
   "outputs": [],
   "source": [
    "imputed_data = dropped_diabetes.fillna(dropped_diabetes.mode())"
   ]
  },
  {
   "cell_type": "code",
   "execution_count": 22,
   "metadata": {},
   "outputs": [],
   "source": [
    "#\n",
    "#Decoupling target\n",
    "\n",
    "y = imputed_data['Outcome']\n",
    "X = imputed_data[dropped_diabetes.columns.difference(['Outcome'])]\n",
    "\n",
    "#\n",
    "#\n",
    "# Train - Test split\n",
    "\n",
    "from sklearn.model_selection import train_test_split\n",
    "X_train,X_test,y_train,y_test = train_test_split(X,y, test_size=0.33 , random_state=42)\n"
   ]
  },
  {
   "cell_type": "code",
   "execution_count": 23,
   "metadata": {
    "scrolled": true
   },
   "outputs": [
    {
     "name": "stdout",
     "output_type": "stream",
     "text": [
      "(491, 7)\n",
      "(242, 7)\n",
      "(491,)\n",
      "(242,)\n"
     ]
    }
   ],
   "source": [
    "print(X_train.shape)\n",
    "print(X_test.shape)\n",
    "print(y_train.shape)\n",
    "print(y_test.shape)"
   ]
  },
  {
   "cell_type": "code",
   "execution_count": 24,
   "metadata": {},
   "outputs": [
    {
     "name": "stderr",
     "output_type": "stream",
     "text": [
      "C:\\Anaconda3\\lib\\site-packages\\sklearn\\utils\\deprecation.py:66: DeprecationWarning: Class Imputer is deprecated; Imputer was deprecated in version 0.20 and will be removed in 0.22. Import impute.SimpleImputer from sklearn instead.\n",
      "  warnings.warn(msg, category=DeprecationWarning)\n"
     ]
    }
   ],
   "source": [
    "# imputing\n",
    "\n",
    "from sklearn.preprocessing import Imputer     ##import constructor\n",
    "mean_imputer = Imputer(strategy=\"mean\")     ## create object\n",
    "mean_imputer.fit(X_train)                   ## learn from train data   \n",
    "X_train_imputed = pd.DataFrame(mean_imputer.transform(X_train),columns=X_train.columns)\n",
    "X_test_imputed = pd.DataFrame(mean_imputer.transform(X_test),columns=X_test.columns)"
   ]
  },
  {
   "cell_type": "code",
   "execution_count": 25,
   "metadata": {},
   "outputs": [
    {
     "data": {
      "text/plain": [
       "Age                           0\n",
       "BMI                           1\n",
       "Blood_Pressure                1\n",
       "DiabetesPedigreeFunction      0\n",
       "Glucose                       1\n",
       "Pregnancies                   0\n",
       "SkinThickness               117\n",
       "dtype: int64"
      ]
     },
     "execution_count": 25,
     "metadata": {},
     "output_type": "execute_result"
    }
   ],
   "source": [
    "X_train.isnull().sum()"
   ]
  },
  {
   "cell_type": "code",
   "execution_count": 26,
   "metadata": {},
   "outputs": [
    {
     "data": {
      "text/plain": [
       "Age                         0\n",
       "BMI                         0\n",
       "Blood_Pressure              0\n",
       "DiabetesPedigreeFunction    0\n",
       "Glucose                     0\n",
       "Pregnancies                 0\n",
       "SkinThickness               0\n",
       "dtype: int64"
      ]
     },
     "execution_count": 26,
     "metadata": {},
     "output_type": "execute_result"
    }
   ],
   "source": [
    "X_train_imputed.isnull().sum()"
   ]
  },
  {
   "cell_type": "code",
   "execution_count": null,
   "metadata": {},
   "outputs": [],
   "source": []
  },
  {
   "cell_type": "markdown",
   "metadata": {},
   "source": [
    "### Important Take-Away - *Transformations should be applied in a 2-phase strategy*"
   ]
  },
  {
   "cell_type": "markdown",
   "metadata": {
    "collapsed": true
   },
   "source": [
    "## 5. Range Scaling"
   ]
  },
  {
   "cell_type": "code",
   "execution_count": 27,
   "metadata": {},
   "outputs": [],
   "source": [
    "from sklearn import preprocessing"
   ]
  },
  {
   "cell_type": "code",
   "execution_count": 28,
   "metadata": {},
   "outputs": [],
   "source": [
    "scaler = preprocessing.MinMaxScaler()\n",
    "scaled_df = scaler.fit_transform(X_train_imputed)\n",
    "scaled_df = pd.DataFrame(scaled_df, columns=['Pregnancies','Glucose','Blood_Pressure',\n",
    "                                             'SkinThickness','BMI','DiabetesPedigreeFunction','Age'])"
   ]
  },
  {
   "cell_type": "code",
   "execution_count": 29,
   "metadata": {},
   "outputs": [
    {
     "name": "stderr",
     "output_type": "stream",
     "text": [
      "C:\\Anaconda3\\lib\\site-packages\\statsmodels\\nonparametric\\kde.py:447: RuntimeWarning: invalid value encountered in greater\n",
      "  X = X[np.logical_and(X > clip[0], X < clip[1])] # won't work for two columns.\n",
      "C:\\Anaconda3\\lib\\site-packages\\statsmodels\\nonparametric\\kde.py:447: RuntimeWarning: invalid value encountered in less\n",
      "  X = X[np.logical_and(X > clip[0], X < clip[1])] # won't work for two columns.\n"
     ]
    },
    {
     "data": {
      "image/png": "[encoded data removed]",
      "text/plain": [
       "<Figure size 432x360 with 2 Axes>"
      ]
     },
     "metadata": {
      "needs_background": "light"
     },
     "output_type": "display_data"
    }
   ],
   "source": [
    "fig, (ax1, ax2) = plt.subplots(ncols=2, figsize=(6, 5))\n",
    "ax1.set_title('Before Scaling')\n",
    "sns.kdeplot(dropped_diabetes['Pregnancies'], ax=ax1)\n",
    "sns.kdeplot(dropped_diabetes['Glucose'], ax=ax1)\n",
    "sns.kdeplot(dropped_diabetes['Blood_Pressure'], ax=ax1)\n",
    "sns.kdeplot(dropped_diabetes['SkinThickness'], ax=ax1)\n",
    "sns.kdeplot(dropped_diabetes['BMI'], ax=ax1)\n",
    "sns.kdeplot(dropped_diabetes['DiabetesPedigreeFunction'], ax=ax1)\n",
    "sns.kdeplot(dropped_diabetes['Age'], ax=ax1)\n",
    "\n",
    "ax2.set_title('After Min-Max Scaling')\n",
    "sns.kdeplot(scaled_df['Pregnancies'], ax=ax2)\n",
    "sns.kdeplot(scaled_df['Glucose'], ax=ax2)\n",
    "sns.kdeplot(scaled_df['Blood_Pressure'], ax=ax2)\n",
    "sns.kdeplot(scaled_df['SkinThickness'], ax=ax2)\n",
    "sns.kdeplot(scaled_df['BMI'], ax=ax2)\n",
    "sns.kdeplot(scaled_df['DiabetesPedigreeFunction'], ax=ax2)\n",
    "sns.kdeplot(scaled_df['Age'], ax=ax2)\n",
    "\n",
    "plt.show()"
   ]
  },
  {
   "cell_type": "code",
   "execution_count": 30,
   "metadata": {},
   "outputs": [],
   "source": [
    "from sklearn.preprocessing import MinMaxScaler     ##import constructor\n",
    "range_scaler = MinMaxScaler()   ## create object\n",
    "range_scaler.fit(X_train)                   ## learn from train data   \n",
    "X_train_scaler = pd.DataFrame(range_scaler.transform(X_train),columns=X_train.columns)\n",
    "X_test_scaler = pd.DataFrame(range_scaler.transform(X_test),columns=X_test.columns)"
   ]
  },
  {
   "cell_type": "code",
   "execution_count": 31,
   "metadata": {},
   "outputs": [
    {
     "data": {
      "text/html": [
       "<div>\n",
       "<style scoped>\n",
       "    .dataframe tbody tr th:only-of-type {\n",
       "        vertical-align: middle;\n",
       "    }\n",
       "\n",
       "    .dataframe tbody tr th {\n",
       "        vertical-align: top;\n",
       "    }\n",
       "\n",
       "    .dataframe thead th {\n",
       "        text-align: right;\n",
       "    }\n",
       "</style>\n",
       "<table border=\"1\" class=\"dataframe\">\n",
       "  <thead>\n",
       "    <tr style=\"text-align: right;\">\n",
       "      <th></th>\n",
       "      <th>Age</th>\n",
       "      <th>BMI</th>\n",
       "      <th>Blood_Pressure</th>\n",
       "      <th>DiabetesPedigreeFunction</th>\n",
       "      <th>Glucose</th>\n",
       "      <th>Pregnancies</th>\n",
       "      <th>SkinThickness</th>\n",
       "    </tr>\n",
       "  </thead>\n",
       "  <tbody>\n",
       "    <tr>\n",
       "      <th>count</th>\n",
       "      <td>491.000000</td>\n",
       "      <td>490.000000</td>\n",
       "      <td>490.000000</td>\n",
       "      <td>491.000000</td>\n",
       "      <td>490.000000</td>\n",
       "      <td>491.000000</td>\n",
       "      <td>374.000000</td>\n",
       "    </tr>\n",
       "    <tr>\n",
       "      <th>mean</th>\n",
       "      <td>0.249321</td>\n",
       "      <td>0.289956</td>\n",
       "      <td>0.492274</td>\n",
       "      <td>0.178584</td>\n",
       "      <td>0.507979</td>\n",
       "      <td>0.216245</td>\n",
       "      <td>0.240264</td>\n",
       "    </tr>\n",
       "    <tr>\n",
       "      <th>std</th>\n",
       "      <td>0.236534</td>\n",
       "      <td>0.140035</td>\n",
       "      <td>0.127151</td>\n",
       "      <td>0.150386</td>\n",
       "      <td>0.197520</td>\n",
       "      <td>0.192132</td>\n",
       "      <td>0.117486</td>\n",
       "    </tr>\n",
       "    <tr>\n",
       "      <th>min</th>\n",
       "      <td>0.000000</td>\n",
       "      <td>0.000000</td>\n",
       "      <td>0.000000</td>\n",
       "      <td>0.000000</td>\n",
       "      <td>0.000000</td>\n",
       "      <td>0.000000</td>\n",
       "      <td>0.000000</td>\n",
       "    </tr>\n",
       "    <tr>\n",
       "      <th>25%</th>\n",
       "      <td>0.062500</td>\n",
       "      <td>0.188119</td>\n",
       "      <td>0.408163</td>\n",
       "      <td>0.075544</td>\n",
       "      <td>0.361290</td>\n",
       "      <td>0.058824</td>\n",
       "      <td>0.152174</td>\n",
       "    </tr>\n",
       "    <tr>\n",
       "      <th>50%</th>\n",
       "      <td>0.166667</td>\n",
       "      <td>0.282019</td>\n",
       "      <td>0.489796</td>\n",
       "      <td>0.136440</td>\n",
       "      <td>0.470968</td>\n",
       "      <td>0.176471</td>\n",
       "      <td>0.239130</td>\n",
       "    </tr>\n",
       "    <tr>\n",
       "      <th>75%</th>\n",
       "      <td>0.395833</td>\n",
       "      <td>0.379751</td>\n",
       "      <td>0.571429</td>\n",
       "      <td>0.250258</td>\n",
       "      <td>0.638710</td>\n",
       "      <td>0.352941</td>\n",
       "      <td>0.323370</td>\n",
       "    </tr>\n",
       "    <tr>\n",
       "      <th>max</th>\n",
       "      <td>1.000000</td>\n",
       "      <td>1.000000</td>\n",
       "      <td>1.000000</td>\n",
       "      <td>1.000000</td>\n",
       "      <td>1.000000</td>\n",
       "      <td>1.000000</td>\n",
       "      <td>1.000000</td>\n",
       "    </tr>\n",
       "  </tbody>\n",
       "</table>\n",
       "</div>"
      ],
      "text/plain": [
       "              Age         BMI  Blood_Pressure  DiabetesPedigreeFunction  \\\n",
       "count  491.000000  490.000000      490.000000                491.000000   \n",
       "mean     0.249321    0.289956        0.492274                  0.178584   \n",
       "std      0.236534    0.140035        0.127151                  0.150386   \n",
       "min      0.000000    0.000000        0.000000                  0.000000   \n",
       "25%      0.062500    0.188119        0.408163                  0.075544   \n",
       "50%      0.166667    0.282019        0.489796                  0.136440   \n",
       "75%      0.395833    0.379751        0.571429                  0.250258   \n",
       "max      1.000000    1.000000        1.000000                  1.000000   \n",
       "\n",
       "          Glucose  Pregnancies  SkinThickness  \n",
       "count  490.000000   491.000000     374.000000  \n",
       "mean     0.507979     0.216245       0.240264  \n",
       "std      0.197520     0.192132       0.117486  \n",
       "min      0.000000     0.000000       0.000000  \n",
       "25%      0.361290     0.058824       0.152174  \n",
       "50%      0.470968     0.176471       0.239130  \n",
       "75%      0.638710     0.352941       0.323370  \n",
       "max      1.000000     1.000000       1.000000  "
      ]
     },
     "execution_count": 31,
     "metadata": {},
     "output_type": "execute_result"
    }
   ],
   "source": [
    "X_train_scaler.describe()"
   ]
  },
  {
   "cell_type": "code",
   "execution_count": null,
   "metadata": {},
   "outputs": [],
   "source": []
  },
  {
   "cell_type": "markdown",
   "metadata": {},
   "source": [
    "## 6. Standardization"
   ]
  },
  {
   "cell_type": "code",
   "execution_count": 32,
   "metadata": {},
   "outputs": [],
   "source": [
    "scaler = preprocessing.StandardScaler()\n",
    "standard_df = scaler.fit_transform(X_train_imputed)\n",
    "standard_df = pd.DataFrame(scaled_df, columns=['Pregnancies','Glucose','Blood_Pressure',\n",
    "                                             'SkinThickness','BMI','DiabetesPedigreeFunction','Age'])"
   ]
  },
  {
   "cell_type": "code",
   "execution_count": 33,
   "metadata": {},
   "outputs": [
    {
     "name": "stderr",
     "output_type": "stream",
     "text": [
      "C:\\Anaconda3\\lib\\site-packages\\statsmodels\\nonparametric\\kde.py:447: RuntimeWarning: invalid value encountered in greater\n",
      "  X = X[np.logical_and(X > clip[0], X < clip[1])] # won't work for two columns.\n",
      "C:\\Anaconda3\\lib\\site-packages\\statsmodels\\nonparametric\\kde.py:447: RuntimeWarning: invalid value encountered in less\n",
      "  X = X[np.logical_and(X > clip[0], X < clip[1])] # won't work for two columns.\n"
     ]
    },
    {
     "data": {
      "image/png": "[encoded data removed]",
      "text/plain": [
       "<Figure size 432x360 with 2 Axes>"
      ]
     },
     "metadata": {
      "needs_background": "light"
     },
     "output_type": "display_data"
    }
   ],
   "source": [
    "fig, (ax1, ax2) = plt.subplots(ncols=2, figsize=(6, 5))\n",
    "ax1.set_title('Before Standardization')\n",
    "sns.kdeplot(dropped_diabetes['Pregnancies'], ax=ax1)\n",
    "sns.kdeplot(dropped_diabetes['Glucose'], ax=ax1)\n",
    "sns.kdeplot(dropped_diabetes['Blood_Pressure'], ax=ax1)\n",
    "sns.kdeplot(dropped_diabetes['SkinThickness'], ax=ax1)\n",
    "sns.kdeplot(dropped_diabetes['BMI'], ax=ax1)\n",
    "sns.kdeplot(dropped_diabetes['DiabetesPedigreeFunction'], ax=ax1)\n",
    "sns.kdeplot(dropped_diabetes['Age'], ax=ax1)\n",
    "\n",
    "ax2.set_title('Standardization')\n",
    "sns.kdeplot(standard_df['Pregnancies'], ax=ax2)\n",
    "sns.kdeplot(standard_df['Glucose'], ax=ax2)\n",
    "sns.kdeplot(standard_df['Blood_Pressure'], ax=ax2)\n",
    "sns.kdeplot(standard_df['SkinThickness'], ax=ax2)\n",
    "sns.kdeplot(standard_df['BMI'], ax=ax2)\n",
    "sns.kdeplot(standard_df['DiabetesPedigreeFunction'], ax=ax2)\n",
    "sns.kdeplot(standard_df['Age'], ax=ax2)\n",
    "\n",
    "plt.show()"
   ]
  },
  {
   "cell_type": "code",
   "execution_count": 34,
   "metadata": {},
   "outputs": [],
   "source": [
    "from sklearn.preprocessing import StandardScaler    ##import constructor\n",
    "std_scaler = StandardScaler()   ## create object\n",
    "std_scaler.fit(X_train)                   ## learn from train data   \n",
    "X_train_std = pd.DataFrame(std_scaler.transform(X_train),columns=X_train.columns)\n",
    "X_test_std = pd.DataFrame(std_scaler.transform(X_test),columns=X_test.columns)"
   ]
  },
  {
   "cell_type": "code",
   "execution_count": 35,
   "metadata": {},
   "outputs": [
    {
     "data": {
      "text/html": [
       "<div>\n",
       "<style scoped>\n",
       "    .dataframe tbody tr th:only-of-type {\n",
       "        vertical-align: middle;\n",
       "    }\n",
       "\n",
       "    .dataframe tbody tr th {\n",
       "        vertical-align: top;\n",
       "    }\n",
       "\n",
       "    .dataframe thead th {\n",
       "        text-align: right;\n",
       "    }\n",
       "</style>\n",
       "<table border=\"1\" class=\"dataframe\">\n",
       "  <thead>\n",
       "    <tr style=\"text-align: right;\">\n",
       "      <th></th>\n",
       "      <th>Age</th>\n",
       "      <th>BMI</th>\n",
       "      <th>Blood_Pressure</th>\n",
       "      <th>DiabetesPedigreeFunction</th>\n",
       "      <th>Glucose</th>\n",
       "      <th>Pregnancies</th>\n",
       "      <th>SkinThickness</th>\n",
       "    </tr>\n",
       "  </thead>\n",
       "  <tbody>\n",
       "    <tr>\n",
       "      <th>count</th>\n",
       "      <td>4.910000e+02</td>\n",
       "      <td>4.900000e+02</td>\n",
       "      <td>4.900000e+02</td>\n",
       "      <td>4.910000e+02</td>\n",
       "      <td>4.900000e+02</td>\n",
       "      <td>4.910000e+02</td>\n",
       "      <td>3.740000e+02</td>\n",
       "    </tr>\n",
       "    <tr>\n",
       "      <th>mean</th>\n",
       "      <td>-1.189363e-16</td>\n",
       "      <td>3.867654e-16</td>\n",
       "      <td>-3.539119e-16</td>\n",
       "      <td>-2.781210e-17</td>\n",
       "      <td>4.531523e-18</td>\n",
       "      <td>-6.964332e-17</td>\n",
       "      <td>-9.558605e-17</td>\n",
       "    </tr>\n",
       "    <tr>\n",
       "      <th>std</th>\n",
       "      <td>1.001020e+00</td>\n",
       "      <td>1.001022e+00</td>\n",
       "      <td>1.001022e+00</td>\n",
       "      <td>1.001020e+00</td>\n",
       "      <td>1.001022e+00</td>\n",
       "      <td>1.001020e+00</td>\n",
       "      <td>1.001340e+00</td>\n",
       "    </tr>\n",
       "    <tr>\n",
       "      <th>min</th>\n",
       "      <td>-1.055135e+00</td>\n",
       "      <td>-2.072704e+00</td>\n",
       "      <td>-3.875518e+00</td>\n",
       "      <td>-1.188714e+00</td>\n",
       "      <td>-2.574413e+00</td>\n",
       "      <td>-1.126650e+00</td>\n",
       "      <td>-2.047782e+00</td>\n",
       "    </tr>\n",
       "    <tr>\n",
       "      <th>25%</th>\n",
       "      <td>-7.906330e-01</td>\n",
       "      <td>-7.279649e-01</td>\n",
       "      <td>-6.621777e-01</td>\n",
       "      <td>-6.858690e-01</td>\n",
       "      <td>-7.434109e-01</td>\n",
       "      <td>-8.201761e-01</td>\n",
       "      <td>-7.507957e-01</td>\n",
       "    </tr>\n",
       "    <tr>\n",
       "      <th>50%</th>\n",
       "      <td>-3.497963e-01</td>\n",
       "      <td>-5.673706e-02</td>\n",
       "      <td>-1.950957e-02</td>\n",
       "      <td>-2.805236e-01</td>\n",
       "      <td>-1.875710e-01</td>\n",
       "      <td>-2.072287e-01</td>\n",
       "      <td>-9.660519e-03</td>\n",
       "    </tr>\n",
       "    <tr>\n",
       "      <th>75%</th>\n",
       "      <td>6.200444e-01</td>\n",
       "      <td>6.418878e-01</td>\n",
       "      <td>6.231586e-01</td>\n",
       "      <td>4.770841e-01</td>\n",
       "      <td>6.625372e-01</td>\n",
       "      <td>7.121925e-01</td>\n",
       "      <td>7.083142e-01</td>\n",
       "    </tr>\n",
       "    <tr>\n",
       "      <th>max</th>\n",
       "      <td>3.176897e+00</td>\n",
       "      <td>5.075644e+00</td>\n",
       "      <td>3.997166e+00</td>\n",
       "      <td>5.467617e+00</td>\n",
       "      <td>2.493539e+00</td>\n",
       "      <td>4.083404e+00</td>\n",
       "      <td>6.475273e+00</td>\n",
       "    </tr>\n",
       "  </tbody>\n",
       "</table>\n",
       "</div>"
      ],
      "text/plain": [
       "                Age           BMI  Blood_Pressure  DiabetesPedigreeFunction  \\\n",
       "count  4.910000e+02  4.900000e+02    4.900000e+02              4.910000e+02   \n",
       "mean  -1.189363e-16  3.867654e-16   -3.539119e-16             -2.781210e-17   \n",
       "std    1.001020e+00  1.001022e+00    1.001022e+00              1.001020e+00   \n",
       "min   -1.055135e+00 -2.072704e+00   -3.875518e+00             -1.188714e+00   \n",
       "25%   -7.906330e-01 -7.279649e-01   -6.621777e-01             -6.858690e-01   \n",
       "50%   -3.497963e-01 -5.673706e-02   -1.950957e-02             -2.805236e-01   \n",
       "75%    6.200444e-01  6.418878e-01    6.231586e-01              4.770841e-01   \n",
       "max    3.176897e+00  5.075644e+00    3.997166e+00              5.467617e+00   \n",
       "\n",
       "            Glucose   Pregnancies  SkinThickness  \n",
       "count  4.900000e+02  4.910000e+02   3.740000e+02  \n",
       "mean   4.531523e-18 -6.964332e-17  -9.558605e-17  \n",
       "std    1.001022e+00  1.001020e+00   1.001340e+00  \n",
       "min   -2.574413e+00 -1.126650e+00  -2.047782e+00  \n",
       "25%   -7.434109e-01 -8.201761e-01  -7.507957e-01  \n",
       "50%   -1.875710e-01 -2.072287e-01  -9.660519e-03  \n",
       "75%    6.625372e-01  7.121925e-01   7.083142e-01  \n",
       "max    2.493539e+00  4.083404e+00   6.475273e+00  "
      ]
     },
     "execution_count": 35,
     "metadata": {},
     "output_type": "execute_result"
    }
   ],
   "source": [
    "X_train_std.describe()"
   ]
  },
  {
   "cell_type": "code",
   "execution_count": null,
   "metadata": {},
   "outputs": [],
   "source": []
  },
  {
   "cell_type": "markdown",
   "metadata": {},
   "source": [
    "## 7. Binning"
   ]
  },
  {
   "cell_type": "code",
   "execution_count": 36,
   "metadata": {},
   "outputs": [],
   "source": [
    "bins = [0,25,30,35,40,100]\n",
    "group_names = [\"malnutrition\",\"Under-weight\",\"Healthy\",\"Over-weight\",\"Obese\"]\n",
    "imputed_data['BMI Class'] = pd.cut(imputed_data['BMI'],bins,labels=group_names)"
   ]
  },
  {
   "cell_type": "code",
   "execution_count": 37,
   "metadata": {},
   "outputs": [
    {
     "data": {
      "text/html": [
       "<div>\n",
       "<style scoped>\n",
       "    .dataframe tbody tr th:only-of-type {\n",
       "        vertical-align: middle;\n",
       "    }\n",
       "\n",
       "    .dataframe tbody tr th {\n",
       "        vertical-align: top;\n",
       "    }\n",
       "\n",
       "    .dataframe thead th {\n",
       "        text-align: right;\n",
       "    }\n",
       "</style>\n",
       "<table border=\"1\" class=\"dataframe\">\n",
       "  <thead>\n",
       "    <tr style=\"text-align: right;\">\n",
       "      <th></th>\n",
       "      <th>Pregnancies</th>\n",
       "      <th>Glucose</th>\n",
       "      <th>Blood_Pressure</th>\n",
       "      <th>SkinThickness</th>\n",
       "      <th>BMI</th>\n",
       "      <th>DiabetesPedigreeFunction</th>\n",
       "      <th>Age</th>\n",
       "      <th>Outcome</th>\n",
       "    </tr>\n",
       "  </thead>\n",
       "  <tbody>\n",
       "    <tr>\n",
       "      <th>0</th>\n",
       "      <td>6</td>\n",
       "      <td>148.0</td>\n",
       "      <td>72.0</td>\n",
       "      <td>35.0</td>\n",
       "      <td>33.593750</td>\n",
       "      <td>0.626953</td>\n",
       "      <td>50</td>\n",
       "      <td>1</td>\n",
       "    </tr>\n",
       "    <tr>\n",
       "      <th>1</th>\n",
       "      <td>1</td>\n",
       "      <td>85.0</td>\n",
       "      <td>66.0</td>\n",
       "      <td>29.0</td>\n",
       "      <td>26.593750</td>\n",
       "      <td>0.351074</td>\n",
       "      <td>31</td>\n",
       "      <td>0</td>\n",
       "    </tr>\n",
       "    <tr>\n",
       "      <th>2</th>\n",
       "      <td>8</td>\n",
       "      <td>183.0</td>\n",
       "      <td>64.0</td>\n",
       "      <td>NaN</td>\n",
       "      <td>23.296875</td>\n",
       "      <td>0.671875</td>\n",
       "      <td>32</td>\n",
       "      <td>1</td>\n",
       "    </tr>\n",
       "    <tr>\n",
       "      <th>3</th>\n",
       "      <td>1</td>\n",
       "      <td>89.0</td>\n",
       "      <td>66.0</td>\n",
       "      <td>23.0</td>\n",
       "      <td>28.093750</td>\n",
       "      <td>0.166992</td>\n",
       "      <td>21</td>\n",
       "      <td>0</td>\n",
       "    </tr>\n",
       "    <tr>\n",
       "      <th>4</th>\n",
       "      <td>0</td>\n",
       "      <td>137.0</td>\n",
       "      <td>40.0</td>\n",
       "      <td>35.0</td>\n",
       "      <td>43.093750</td>\n",
       "      <td>2.287109</td>\n",
       "      <td>33</td>\n",
       "      <td>1</td>\n",
       "    </tr>\n",
       "  </tbody>\n",
       "</table>\n",
       "</div>"
      ],
      "text/plain": [
       "   Pregnancies  Glucose  Blood_Pressure  SkinThickness        BMI  \\\n",
       "0            6    148.0            72.0           35.0  33.593750   \n",
       "1            1     85.0            66.0           29.0  26.593750   \n",
       "2            8    183.0            64.0            NaN  23.296875   \n",
       "3            1     89.0            66.0           23.0  28.093750   \n",
       "4            0    137.0            40.0           35.0  43.093750   \n",
       "\n",
       "   DiabetesPedigreeFunction  Age Outcome  \n",
       "0                  0.626953   50       1  \n",
       "1                  0.351074   31       0  \n",
       "2                  0.671875   32       1  \n",
       "3                  0.166992   21       0  \n",
       "4                  2.287109   33       1  "
      ]
     },
     "execution_count": 37,
     "metadata": {},
     "output_type": "execute_result"
    }
   ],
   "source": [
    "dropped_diabetes.head()"
   ]
  },
  {
   "cell_type": "code",
   "execution_count": null,
   "metadata": {},
   "outputs": [],
   "source": []
  },
  {
   "cell_type": "markdown",
   "metadata": {},
   "source": [
    "## 8. Variable encoding (Dummification)"
   ]
  },
  {
   "cell_type": "code",
   "execution_count": 38,
   "metadata": {},
   "outputs": [],
   "source": [
    "dummy_col = pd.get_dummies(imputed_data, columns=['BMI Class'])"
   ]
  },
  {
   "cell_type": "code",
   "execution_count": 39,
   "metadata": {},
   "outputs": [
    {
     "data": {
      "text/html": [
       "<div>\n",
       "<style scoped>\n",
       "    .dataframe tbody tr th:only-of-type {\n",
       "        vertical-align: middle;\n",
       "    }\n",
       "\n",
       "    .dataframe tbody tr th {\n",
       "        vertical-align: top;\n",
       "    }\n",
       "\n",
       "    .dataframe thead th {\n",
       "        text-align: right;\n",
       "    }\n",
       "</style>\n",
       "<table border=\"1\" class=\"dataframe\">\n",
       "  <thead>\n",
       "    <tr style=\"text-align: right;\">\n",
       "      <th></th>\n",
       "      <th>Pregnancies</th>\n",
       "      <th>Glucose</th>\n",
       "      <th>Blood_Pressure</th>\n",
       "      <th>SkinThickness</th>\n",
       "      <th>BMI</th>\n",
       "      <th>DiabetesPedigreeFunction</th>\n",
       "      <th>Age</th>\n",
       "      <th>Outcome</th>\n",
       "      <th>BMI Class_malnutrition</th>\n",
       "      <th>BMI Class_Under-weight</th>\n",
       "      <th>BMI Class_Healthy</th>\n",
       "      <th>BMI Class_Over-weight</th>\n",
       "      <th>BMI Class_Obese</th>\n",
       "    </tr>\n",
       "  </thead>\n",
       "  <tbody>\n",
       "    <tr>\n",
       "      <th>0</th>\n",
       "      <td>6</td>\n",
       "      <td>148.0</td>\n",
       "      <td>72.0</td>\n",
       "      <td>35.0</td>\n",
       "      <td>33.593750</td>\n",
       "      <td>0.626953</td>\n",
       "      <td>50</td>\n",
       "      <td>1</td>\n",
       "      <td>0</td>\n",
       "      <td>0</td>\n",
       "      <td>1</td>\n",
       "      <td>0</td>\n",
       "      <td>0</td>\n",
       "    </tr>\n",
       "    <tr>\n",
       "      <th>1</th>\n",
       "      <td>1</td>\n",
       "      <td>85.0</td>\n",
       "      <td>66.0</td>\n",
       "      <td>29.0</td>\n",
       "      <td>26.593750</td>\n",
       "      <td>0.351074</td>\n",
       "      <td>31</td>\n",
       "      <td>0</td>\n",
       "      <td>0</td>\n",
       "      <td>1</td>\n",
       "      <td>0</td>\n",
       "      <td>0</td>\n",
       "      <td>0</td>\n",
       "    </tr>\n",
       "    <tr>\n",
       "      <th>2</th>\n",
       "      <td>8</td>\n",
       "      <td>183.0</td>\n",
       "      <td>64.0</td>\n",
       "      <td>NaN</td>\n",
       "      <td>23.296875</td>\n",
       "      <td>0.671875</td>\n",
       "      <td>32</td>\n",
       "      <td>1</td>\n",
       "      <td>1</td>\n",
       "      <td>0</td>\n",
       "      <td>0</td>\n",
       "      <td>0</td>\n",
       "      <td>0</td>\n",
       "    </tr>\n",
       "    <tr>\n",
       "      <th>3</th>\n",
       "      <td>1</td>\n",
       "      <td>89.0</td>\n",
       "      <td>66.0</td>\n",
       "      <td>23.0</td>\n",
       "      <td>28.093750</td>\n",
       "      <td>0.166992</td>\n",
       "      <td>21</td>\n",
       "      <td>0</td>\n",
       "      <td>0</td>\n",
       "      <td>1</td>\n",
       "      <td>0</td>\n",
       "      <td>0</td>\n",
       "      <td>0</td>\n",
       "    </tr>\n",
       "    <tr>\n",
       "      <th>4</th>\n",
       "      <td>0</td>\n",
       "      <td>137.0</td>\n",
       "      <td>40.0</td>\n",
       "      <td>35.0</td>\n",
       "      <td>43.093750</td>\n",
       "      <td>2.287109</td>\n",
       "      <td>33</td>\n",
       "      <td>1</td>\n",
       "      <td>0</td>\n",
       "      <td>0</td>\n",
       "      <td>0</td>\n",
       "      <td>0</td>\n",
       "      <td>1</td>\n",
       "    </tr>\n",
       "  </tbody>\n",
       "</table>\n",
       "</div>"
      ],
      "text/plain": [
       "   Pregnancies  Glucose  Blood_Pressure  SkinThickness        BMI  \\\n",
       "0            6    148.0            72.0           35.0  33.593750   \n",
       "1            1     85.0            66.0           29.0  26.593750   \n",
       "2            8    183.0            64.0            NaN  23.296875   \n",
       "3            1     89.0            66.0           23.0  28.093750   \n",
       "4            0    137.0            40.0           35.0  43.093750   \n",
       "\n",
       "   DiabetesPedigreeFunction  Age Outcome  BMI Class_malnutrition  \\\n",
       "0                  0.626953   50       1                       0   \n",
       "1                  0.351074   31       0                       0   \n",
       "2                  0.671875   32       1                       1   \n",
       "3                  0.166992   21       0                       0   \n",
       "4                  2.287109   33       1                       0   \n",
       "\n",
       "   BMI Class_Under-weight  BMI Class_Healthy  BMI Class_Over-weight  \\\n",
       "0                       0                  1                      0   \n",
       "1                       1                  0                      0   \n",
       "2                       0                  0                      0   \n",
       "3                       1                  0                      0   \n",
       "4                       0                  0                      0   \n",
       "\n",
       "   BMI Class_Obese  \n",
       "0                0  \n",
       "1                0  \n",
       "2                0  \n",
       "3                0  \n",
       "4                1  "
      ]
     },
     "execution_count": 39,
     "metadata": {},
     "output_type": "execute_result"
    }
   ],
   "source": [
    "dummy_col.head()"
   ]
  }
 ],
 "metadata": {
  "kernelspec": {
   "display_name": "Python 3",
   "language": "python",
   "name": "python3"
  },
  "language_info": {
   "codemirror_mode": {
    "name": "ipython",
    "version": 3
   },
   "file_extension": ".py",
   "mimetype": "text/x-python",
   "name": "python",
   "nbconvert_exporter": "python",
   "pygments_lexer": "ipython3",
   "version": "3.7.3"
  }
 },
 "nbformat": 4,
 "nbformat_minor": 1
}
